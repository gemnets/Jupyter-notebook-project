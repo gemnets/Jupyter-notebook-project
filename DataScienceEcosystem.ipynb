{
 "cells": [
  {
   "cell_type": "markdown",
   "id": "a6b282a2-b546-44b9-9030-bf444e2b5796",
   "metadata": {},
   "source": [
    "# Data Science Tools and Ecosystem"
   ]
  },
  {
   "cell_type": "markdown",
   "id": "9d6766a1-432a-43cf-88e7-a96d68ed3003",
   "metadata": {},
   "source": [
    "In this notebook, Data Science Tools and Ecosystem are summarized."
   ]
  },
  {
   "cell_type": "markdown",
   "id": "49079532-275c-4281-82ce-6a191a5246e7",
   "metadata": {},
   "source": [
    "**Objectives:**\n",
    "\n",
    "- List and identify popular languages used in Data Science\n",
    "- List and identify commonly used libraries by Data Scientists\n",
    "- Understand how to evaluate arithmetic expressions in Python\n",
    "- Create a table in Markdown to display data science tools\n"
   ]
  },
  {
   "cell_type": "markdown",
   "id": "985291be-0f44-443f-bbff-ac6cdc536c13",
   "metadata": {},
   "source": [
    "Some of the popular languages that Data Scientists use are:\n",
    "\n",
    "1. Python\n",
    "2. R\n",
    "3. SQL\n",
    "4. Julia"
   ]
  },
  {
   "cell_type": "markdown",
   "id": "3083c99f-9601-4eb7-9bde-78c92f65b2ae",
   "metadata": {},
   "source": [
    "Some of the commonly used libraries used by Data Scientists include:"
   ]
  },
  {
   "cell_type": "markdown",
   "id": "298d6dee-bfff-4c34-b637-e2fc6cc407ec",
   "metadata": {},
   "source": [
    "1. NumPy \n",
    "2. Pandas \n",
    "3. TensorFlow"
   ]
  },
  {
   "cell_type": "markdown",
   "id": "edc9167a-a681-4b5a-b0de-3ba4034b0b2b",
   "metadata": {},
   "source": [
    "| Data Science Tools |\r\n",
    "|:------------------|\r\n",
    "| Jupyter Notebook   |\r\n",
    "| RStudio            |\r\n",
    "| Apache Zeppelin    |\r\n"
   ]
  },
  {
   "cell_type": "markdown",
   "id": "0d393d1e-d12a-4bac-82b5-c8ddda08e012",
   "metadata": {},
   "source": [
    "### Below are a few examples of evaluating arithmetic expressions in Python.\r\n"
   ]
  },
  {
   "cell_type": "code",
   "execution_count": 11,
   "id": "8748bbf8-73f2-4846-9fda-8e4ee1b2ec79",
   "metadata": {},
   "outputs": [],
   "source": [
    "# This a simple arithmetic expression to mutiply then add integers"
   ]
  },
  {
   "cell_type": "code",
   "execution_count": 12,
   "id": "866dffdb-2b5a-4f25-9ba4-da2afe817736",
   "metadata": {},
   "outputs": [
    {
     "data": {
      "text/plain": [
       "17"
      ]
     },
     "execution_count": 12,
     "metadata": {},
     "output_type": "execute_result"
    }
   ],
   "source": [
    "(3*4)+5"
   ]
  },
  {
   "cell_type": "code",
   "execution_count": 13,
   "id": "228fc9a1-60ca-40c2-b653-53923ff52547",
   "metadata": {},
   "outputs": [],
   "source": [
    "# This will convert 200 minutes to hours by diving by 60"
   ]
  },
  {
   "cell_type": "code",
   "execution_count": 14,
   "id": "ca11bb8f-280a-4caf-a2e6-1eb5ff574771",
   "metadata": {},
   "outputs": [],
   "source": [
    "minutes = 200"
   ]
  },
  {
   "cell_type": "code",
   "execution_count": 15,
   "id": "e0dda0c1-214b-41d9-9692-c0d15db2b8c2",
   "metadata": {},
   "outputs": [],
   "source": [
    "hours = minutes / 60"
   ]
  },
  {
   "cell_type": "code",
   "execution_count": 16,
   "id": "79f87847-4c39-4abb-bbad-72c3bd3880d4",
   "metadata": {},
   "outputs": [
    {
     "data": {
      "text/plain": [
       "3.3333333333333335"
      ]
     },
     "execution_count": 16,
     "metadata": {},
     "output_type": "execute_result"
    }
   ],
   "source": [
    "hours"
   ]
  },
  {
   "cell_type": "code",
   "execution_count": null,
   "id": "0c93108a-b242-4cb9-8d78-b2dc65da17e6",
   "metadata": {},
   "outputs": [],
   "source": []
  },
  {
   "cell_type": "markdown",
   "id": "3b32deed-6bfe-4dca-bb0b-8051623a7f02",
   "metadata": {},
   "source": [
    "## Author\n",
    "\n",
    "Bindiya Somani\n"
   ]
  },
  {
   "cell_type": "code",
   "execution_count": null,
   "id": "f828e25c-0149-47bd-ae60-1ae7d3c34047",
   "metadata": {},
   "outputs": [],
   "source": []
  }
 ],
 "metadata": {
  "kernelspec": {
   "display_name": "Python 3 (ipykernel)",
   "language": "python",
   "name": "python3"
  },
  "language_info": {
   "codemirror_mode": {
    "name": "ipython",
    "version": 3
   },
   "file_extension": ".py",
   "mimetype": "text/x-python",
   "name": "python",
   "nbconvert_exporter": "python",
   "pygments_lexer": "ipython3",
   "version": "3.11.9"
  }
 },
 "nbformat": 4,
 "nbformat_minor": 5
}
